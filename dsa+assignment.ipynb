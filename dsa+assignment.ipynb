{
 "cells": [
  {
   "cell_type": "code",
   "execution_count": 1,
   "metadata": {},
   "outputs": [
    {
     "name": "stdout",
     "output_type": "stream",
     "text": [
      "-3\n",
      "0\n",
      "-2\n"
     ]
    }
   ],
   "source": [
    "#Write a program to find the smallest number using a stack\n",
    "class MinStack(object):\n",
    "    min=float('inf')\n",
    "    def __init__(self):\n",
    "        self.min=float('inf')\n",
    "        self.stack = []\n",
    "    def push(self, x):\n",
    "        if x<=self.min:\n",
    "        self.stack.append(self.min)\n",
    "        self.min = x\n",
    "        self.stack.append(x)\n",
    "    def pop(self):\n",
    "        t = self.stack[-1]\n",
    "        self.stack.pop()\n",
    "        if self.min == t:\n",
    "        self.min = self.stack[-1]\n",
    "        self.stack.pop()\n",
    "    def top(self):\n",
    "        return self.stack[-1]\n",
    "    def getMin(self):\n",
    "        return self.min\n",
    "m = MinStack()\n",
    "m.push(-2)\n",
    "m.push(0)\n",
    "m.push(-3)\n",
    "print(m.getMin())\n",
    "m.pop()\n",
    "print(m.top())\n",
    "print(m.getMin())"
   ]
  },
  {
   "cell_type": "code",
   "execution_count": null,
   "metadata": {
    "collapsed": true
   },
   "outputs": [],
   "source": []
  },
  {
   "cell_type": "code",
   "execution_count": null,
   "metadata": {
    "collapsed": true
   },
   "outputs": [],
   "source": []
  },
  {
   "cell_type": "code",
   "execution_count": null,
   "metadata": {
    "collapsed": true
   },
   "outputs": [],
   "source": [
    "#. Write a program to reverse a stack.\n",
    "class  Stack_to_reverse  :\n",
    "    # Creates  an  empty  stack.\n",
    "    def __init__(  self  ):\n",
    "        self.items  =  list()\n",
    "        self.size=-1\n",
    " \n",
    "    #Returns  True  if  the  stack  is  empty  or  False  otherwise.\n",
    "    def  isEmpty(  self  ):\n",
    "        if(self.size==-1):\n",
    "            return True\n",
    "        else:\n",
    "            return False\n",
    " \n",
    "    # Removes  and  returns  the  top  item  on  the  stack.\n",
    "    def  pop(  self  ):\n",
    "        if  self.isEmpty():\n",
    "            print(\"Stack is empty\")\n",
    "        else:\n",
    "            return self.items.pop()\n",
    "            self.size-=1\n",
    " \n",
    "    # Push  an  item  onto  the  top  of  the  stack.\n",
    "    def  push(  self,  item  ):\n",
    "        self.items.append(item)\n",
    "        self.size+=1\n",
    " \n",
    "    def reverse(self,string):\n",
    "        n = len(string)\n",
    " \n",
    " # Push all characters of string to stack\n",
    "        for i in range(0,n):\n",
    "            S.push(string[i])\n",
    " \n",
    " # Making the string empty since all characters are saved in stack\n",
    "        string=\"\"\n",
    " \n",
    " # Pop all characters of string and put them back to string\n",
    " \n",
    "        for i in range(0,n):\n",
    "            string+=S.pop()\n",
    "        return string\n",
    " \n",
    "S=Stack_to_reverse()\n",
    "seq=input(\"Enter a string to be reversed\")\n",
    "sequence = S.reverse(seq)\n",
    "print(\"Reversed string is \" + sequence)"
   ]
  },
  {
   "cell_type": "code",
   "execution_count": null,
   "metadata": {
    "collapsed": true
   },
   "outputs": [],
   "source": [
    "# Write a program to check if all the brackets are closed in a given code snippet.\n",
    "def isbalanced(s):\n",
    "    c= 0\n",
    "    ans=False\n",
    "    for i in s:\n",
    "        if i == “(“:\n",
    "            c += 1\n",
    "        elif i == “)”:\n",
    "            c-= 1\n",
    "        if c < 0:\n",
    "            return ans\n",
    "    if c==0:\n",
    "        return not ans\n",
    "    return ans\n",
    "s=input(“Enter a string of brackets: “) \n",
    "print(“Given string is balanced :”,isbalanced(s))"
   ]
  },
  {
   "cell_type": "code",
   "execution_count": 10,
   "metadata": {},
   "outputs": [
    {
     "ename": "IndentationError",
     "evalue": "expected an indented block (<ipython-input-10-4209fc68d89f>, line 21)",
     "output_type": "error",
     "traceback": [
      "\u001b[1;36m  File \u001b[1;32m\"<ipython-input-10-4209fc68d89f>\"\u001b[1;36m, line \u001b[1;32m21\u001b[0m\n\u001b[1;33m    return \"(\"+' '.join(expr)+\")\"\u001b[0m\n\u001b[1;37m         ^\u001b[0m\n\u001b[1;31mIndentationError\u001b[0m\u001b[1;31m:\u001b[0m expected an indented block\n"
     ]
    }
   ],
   "source": [
    "#Write a program to convert prefix expression to infix expression\n",
    "class pre_in(read):\n",
    "    #print read\n",
    "    tempOp = read[0]\n",
    "    body = read[1:]\n",
    "    expr = []\n",
    "    for i in range(len(body)-1):\n",
    "        if not isinstance(body[i], list) and body[i] != \" \":\n",
    "            expr.append(str(body[i]))\n",
    "            expr.append(tempOp)\n",
    "        else:\n",
    "            expr.append(str(pre_in(body[i])))\n",
    "            expr.append(tempOp)\n",
    "    try:\n",
    "        if not isinstance(body[-1], list):\n",
    "            expr.append(str(body[-1]))\n",
    "        else:\n",
    "            expr.append(str(pre_in(body[-1])))\n",
    "    except:\n",
    "        pass\n",
    "    if expr != None:\n",
    "    return \"(\"+' '.join(expr)+\")\""
   ]
  },
  {
   "cell_type": "code",
   "execution_count": 11,
   "metadata": {},
   "outputs": [
    {
     "name": "stdout",
     "output_type": "stream",
     "text": [
      "Count of pairs is 3\n"
     ]
    }
   ],
   "source": [
    "#. Write a program to find all pairs of an integer array whose sum is equal to a given number\n",
    "\n",
    "\n",
    "import sys\n",
    " \n",
    "def getPairsCount(arr, n, sum):\n",
    " \n",
    "    m = [0] * 1000\n",
    " \n",
    "    for i in range(0, n):\n",
    "        m[arr[i]] += 1\n",
    " \n",
    "    twice_count = 0\n",
    " \n",
    "   \n",
    "    for i in range(0, n):\n",
    " \n",
    "        twice_count += m[sum - arr[i]]\n",
    " \n",
    "      \n",
    "        if (sum - arr[i] == arr[i]):\n",
    "            twice_count -= 1\n",
    "\n",
    "    return int(twice_count / 2)\n",
    " \n",
    "\n",
    "arr = [1, 5, 7, -1, 5]\n",
    "n = len(arr)\n",
    "sum = 6\n",
    " \n",
    "print(\"Count of pairs is\", getPairsCount(arr,\n",
    "                                         n, sum))"
   ]
  },
  {
   "cell_type": "code",
   "execution_count": null,
   "metadata": {
    "collapsed": true
   },
   "outputs": [],
   "source": [
    "#Write a program to reverse an array in place? In place means you cannot create a new array. You have to update the original array\n",
    "def reverseList(A, start, end):\n",
    "    while start < end:\n",
    "        A[start], A[end] = A[end], A[start]\n",
    "        start += 1\n",
    "        end -= 1\n",
    " \n",
    "A = [1, 2, 3, 4, 5, 6]\n",
    "print(A)\n",
    "reverseList(A, 0, 5)\n",
    "print(\"Reversed list is\")\n",
    "print(A)"
   ]
  },
  {
   "cell_type": "code",
   "execution_count": null,
   "metadata": {
    "collapsed": true
   },
   "outputs": [],
   "source": [
    "#Write a program to check if two strings are a rotation of each other?\n",
    "str1 = \"abcde\";  \n",
    "str2 = \"deabc\";  \n",
    "   \n",
    "if(len(str1) != len(str2)):  \n",
    "    print(\"Second string is not a rotation of first string\");  \n",
    "else:  \n",
    "    try:  \n",
    "      \n",
    "        str1 = str1 + str1;  \n",
    "          \n",
    "    \n",
    "        if(str1.index(str2)):  \n",
    "            print(\"Second string is a rotation of first string\");  \n",
    "    except ValueError:  \n",
    "            print(\"Second string is not a rotation of first string\");  \n",
    "            "
   ]
  },
  {
   "cell_type": "code",
   "execution_count": null,
   "metadata": {
    "collapsed": true
   },
   "outputs": [],
   "source": [
    " #Write a program to print the first non-repeated character from a string\n",
    "import math as mt\n",
    " \n",
    "NO_OF_CHARS = 256\n",
    "\n",
    " \n",
    "def firstNonRepeating(string):\n",
    "    #initialize all character as absent\n",
    "     \n",
    "    arr=[-1 for i in range(NO_OF_CHARS)]\n",
    "  \n",
    "     \n",
    "    for i in range(len(string)):\n",
    "        if arr[ord(string[i])]==-1:\n",
    "            arr[ord(string[i])]=i\n",
    "        else:\n",
    "            arr[ord(string[i])]=-2\n",
    "    res=10**18\n",
    "     \n",
    "    for i in range(NO_OF_CHARS):\n",
    "        \n",
    "        if arr[i]>=0:\n",
    "            res=min(res,arr[i])\n",
    "    return res\n",
    " \n",
    "string=\"geeksforgeeks\"\n",
    " \n",
    "index=firstNonRepeating(string)\n",
    " \n",
    "if index==10**18:\n",
    "    print(\"Either all characters are repeating or string is empty\")\n",
    "else:\n",
    "    print(\"First non-repeating character is\",string[index])"
   ]
  },
  {
   "cell_type": "code",
   "execution_count": null,
   "metadata": {
    "collapsed": true
   },
   "outputs": [],
   "source": [
    "# Read about the Tower of Hanoi algorithm. Write a program to implement it\n",
    "def TowerOfHanoi(n , source, destination, auxiliary):\n",
    "    if n==1:\n",
    "        print (\"Move disk 1 from source\",source,\"to destination\",destination)\n",
    "        return\n",
    "    TowerOfHanoi(n-1, source, auxiliary, destination)\n",
    "    print (\"Move disk\",n,\"from source\",source,\"to destination\",destination)\n",
    "    TowerOfHanoi(n-1, auxiliary, destination, source)\n",
    "         \n",
    "\n",
    "n = 4\n",
    "TowerOfHanoi(n,'A','B','C')\n"
   ]
  }
 ],
 "metadata": {
  "kernelspec": {
   "display_name": "Python 3",
   "language": "python",
   "name": "python3"
  },
  "language_info": {
   "codemirror_mode": {
    "name": "ipython",
    "version": 3
   },
   "file_extension": ".py",
   "mimetype": "text/x-python",
   "name": "python",
   "nbconvert_exporter": "python",
   "pygments_lexer": "ipython3",
   "version": "3.6.3"
  }
 },
 "nbformat": 4,
 "nbformat_minor": 2
}
