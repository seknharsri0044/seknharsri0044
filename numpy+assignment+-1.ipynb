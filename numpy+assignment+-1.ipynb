{
 "cells": [
  {
   "cell_type": "code",
   "execution_count": 3,
   "metadata": {},
   "outputs": [
    {
     "name": "stdout",
     "output_type": "stream",
     "text": [
      "[0 0 0 0 1 0 0 0 0 0]\n"
     ]
    }
   ],
   "source": [
    "#Create a null vector of size 10 but the fifth value which is 1\n",
    "import numpy as np\n",
    "\n",
    "b=np.array([int(x==4) for x in range(10)])\n",
    "print(b)\n",
    "\n",
    "\n"
   ]
  },
  {
   "cell_type": "code",
   "execution_count": 4,
   "metadata": {},
   "outputs": [
    {
     "name": "stdout",
     "output_type": "stream",
     "text": [
      "[10 11 12 13 14 15 16 17 18 19 20 21 22 23 24 25 26 27 28 29 30 31 32 33 34\n",
      " 35 36 37 38 39 40 41 42 43 44 45 46 47 48]\n"
     ]
    }
   ],
   "source": [
    "# Create a vector with values ranging from 10 to 49.\n",
    "import numpy as np\n",
    "v = np.arange(10,49)\n",
    "\n",
    "print(v)"
   ]
  },
  {
   "cell_type": "code",
   "execution_count": 10,
   "metadata": {},
   "outputs": [
    {
     "name": "stdout",
     "output_type": "stream",
     "text": [
      "[[0 1 2]\n",
      " [3 4 5]\n",
      " [6 7 8]]\n"
     ]
    }
   ],
   "source": [
    "#Create a 3x3 matrix with values ranging from 0 to 8\n",
    "import numpy as np\n",
    "x =  np.arange(9).reshape(3,3)\n",
    "print(x)"
   ]
  },
  {
   "cell_type": "code",
   "execution_count": 13,
   "metadata": {},
   "outputs": [
    {
     "data": {
      "text/plain": [
       "(array([0, 1, 4], dtype=int64),)"
      ]
     },
     "execution_count": 13,
     "metadata": {},
     "output_type": "execute_result"
    }
   ],
   "source": [
    "# Find indices of non-zero elements from [1,2,0,0,4,0]\n",
    "d = np.array([1, 2, 0, 0, 4, 0])\n",
    "\n",
    "np.nonzero(d)"
   ]
  },
  {
   "cell_type": "code",
   "execution_count": 9,
   "metadata": {},
   "outputs": [
    {
     "name": "stdout",
     "output_type": "stream",
     "text": [
      "[[  3.57760585e-01   4.98473022e-01   9.70559701e-01   8.23410487e-01\n",
      "    2.85412214e-01   7.12820564e-01   2.88914615e-01   9.86235923e-01\n",
      "    9.25070706e-03   9.49277330e-01]\n",
      " [  7.47658551e-01   1.42820201e-01   4.22754443e-02   4.77152832e-01\n",
      "    2.18992691e-01   5.37669567e-01   4.47544610e-01   5.50856023e-01\n",
      "    5.32047700e-01   4.61180462e-02]\n",
      " [  5.63736085e-01   6.65748080e-01   7.18055371e-01   6.63604400e-01\n",
      "    2.45065019e-01   7.35020181e-01   2.75073478e-02   6.27510248e-01\n",
      "    1.44896718e-01   6.84719771e-02]\n",
      " [  5.99437426e-01   5.39152509e-01   5.95313617e-01   6.80909500e-01\n",
      "    4.03609888e-01   2.22986245e-01   5.89122374e-01   2.36618413e-01\n",
      "    8.62989705e-02   1.89212644e-01]\n",
      " [  2.23997851e-01   6.12075279e-01   9.51912582e-01   9.06809633e-01\n",
      "    6.97323473e-01   4.69706549e-01   6.23456969e-04   7.99898467e-01\n",
      "    3.07477362e-01   6.99129488e-01]\n",
      " [  3.28075491e-01   1.61523958e-01   2.73937746e-01   2.87642104e-01\n",
      "    9.19565831e-01   5.33960970e-01   7.96314012e-01   3.97844659e-01\n",
      "    8.58400267e-01   6.41154592e-01]\n",
      " [  1.30510982e-01   5.33663470e-01   5.39542438e-01   8.01487196e-01\n",
      "    2.17719450e-01   9.58993794e-01   3.61206468e-01   4.17288374e-01\n",
      "    6.75555048e-02   3.75245296e-01]\n",
      " [  8.30074833e-03   2.33845843e-01   2.70120301e-01   2.98061216e-01\n",
      "    9.63389766e-01   2.07176759e-01   9.49076777e-01   4.46151745e-01\n",
      "    3.25158516e-02   3.55623859e-01]\n",
      " [  7.30903709e-01   4.43191786e-01   6.31796106e-01   5.81618168e-01\n",
      "    4.51575991e-01   4.71908526e-01   2.40511608e-01   1.81307225e-01\n",
      "    4.52675459e-01   4.13822541e-02]\n",
      " [  7.93425395e-01   5.74943678e-01   9.53238366e-01   7.12666837e-01\n",
      "    1.89295622e-01   4.27085118e-01   1.54340658e-01   7.69847044e-01\n",
      "    4.21832684e-01   7.13452555e-01]]\n",
      "Minimum and Maximum Values:\n",
      "0.000623456968724 0.986235923135\n"
     ]
    }
   ],
   "source": [
    "#Create a 10x10 array with random values and find the minimum and maximum values.\n",
    "import numpy as np\n",
    "x = np.random.random((10,10))\n",
    "\n",
    "print(x) \n",
    "xmin, xmax = x.min(), x.max()\n",
    "print(\"Minimum and Maximum Values:\")\n",
    "print(xmin, xmax)"
   ]
  },
  {
   "cell_type": "code",
   "execution_count": 11,
   "metadata": {},
   "outputs": [
    {
     "name": "stdout",
     "output_type": "stream",
     "text": [
      "[[ 0.3049263   0.09562031  0.83132177  0.67145209  0.77249729  0.76218758]\n",
      " [ 0.27196183  0.43666214  0.35284329  0.55593964  0.32361824  0.22766552]\n",
      " [ 0.14351666  0.32414057  0.52400144  0.30896991  0.64470061  0.01830127]\n",
      " [ 0.30546083  0.26663153  0.39110122  0.75268421  0.00991975  0.76484766]\n",
      " [ 0.20566415  0.7313805   0.02852312  0.30818415  0.25141895  0.9114178 ]]\n"
     ]
    },
    {
     "data": {
      "text/plain": [
       "0.41658534496713368"
      ]
     },
     "execution_count": 11,
     "metadata": {},
     "output_type": "execute_result"
    }
   ],
   "source": [
    "# Create a random vector of size 30 and find the mean value.\n",
    "f = np.random.random((5,6))\n",
    "\n",
    "print(f)\n",
    "\n",
    "np.mean(f)"
   ]
  },
  {
   "cell_type": "code",
   "execution_count": null,
   "metadata": {
    "collapsed": true
   },
   "outputs": [],
   "source": []
  }
 ],
 "metadata": {
  "kernelspec": {
   "display_name": "Python 3",
   "language": "python",
   "name": "python3"
  },
  "language_info": {
   "codemirror_mode": {
    "name": "ipython",
    "version": 3
   },
   "file_extension": ".py",
   "mimetype": "text/x-python",
   "name": "python",
   "nbconvert_exporter": "python",
   "pygments_lexer": "ipython3",
   "version": "3.6.3"
  }
 },
 "nbformat": 4,
 "nbformat_minor": 2
}
