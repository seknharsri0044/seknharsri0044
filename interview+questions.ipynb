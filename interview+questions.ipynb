{
 "cells": [
  {
   "cell_type": "code",
   "execution_count": null,
   "metadata": {
    "collapsed": true
   },
   "outputs": [],
   "source": [
    "Q1. What is Python?\n",
    "Q2. Python is an interpreted language. Explain\n",
    "Q3. What is the difference between lists and tuples?\n",
    "Q4. What is pep 8?\n",
    "Q5. What are the Key features of Python?\n",
    "Q6. How is Memory managed in Python?\n",
    "Q7. What is PYTHONPATH?\n",
    "Q8. What are Python Modules?\n",
    "Q9. What are python namespaces?\n",
    "Q10. Explain Inheritance in Python with an example?\n",
    "Q11.What does sequence mean and which three types of data fall into this category?\n",
    "Q12.What does mapping mean and what kind of data type is based on mapping?\n",
    "Q13. What is negative index in Python?\n",
    "Q14. How can you convert a number to a string?\n",
    "Q15.What is the difference between xrange and range\n",
    "Q16.What is module and package in Python?\n",
    "Q17. What is Python If Statement?\n",
    "Q18. Explain While loop in Python with example\n",
    "Q19.What is enumerate() in Python?\n",
    "Q20.How can you use for loop to repeat the same statement over and again?\n",
    "Q21."
   ]
  }
 ],
 "metadata": {
  "kernelspec": {
   "display_name": "Python 3",
   "language": "python",
   "name": "python3"
  },
  "language_info": {
   "codemirror_mode": {
    "name": "ipython",
    "version": 3
   },
   "file_extension": ".py",
   "mimetype": "text/x-python",
   "name": "python",
   "nbconvert_exporter": "python",
   "pygments_lexer": "ipython3",
   "version": "3.6.3"
  }
 },
 "nbformat": 4,
 "nbformat_minor": 2
}
