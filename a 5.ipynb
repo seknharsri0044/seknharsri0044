{
 "cells": [
  {
   "cell_type": "code",
   "execution_count": 12,
   "metadata": {},
   "outputs": [
    {
     "data": {
      "text/plain": [
       "100"
      ]
     },
     "execution_count": 12,
     "metadata": {},
     "output_type": "execute_result"
    }
   ],
   "source": [
    "class nthpower:\n",
    "    \n",
    "    def solution(self,x,n):\n",
    "        if x==0 or x==1 or n==1:\n",
    "            return x\n",
    "        if x==-1:\n",
    "            if n%2==0:\n",
    "                return (1)\n",
    "            else :\n",
    "                return (-1)\n",
    "        if n==0:\n",
    "            return (1)\n",
    "        if n<0:\n",
    "            return (1/self.solution(x,-n))\n",
    "        result=self.solution(x,n//2)\n",
    "        if n%2==0:\n",
    "            return (result*result)\n",
    "        return (result*result*x)\n",
    "t=nthpower()\n",
    "t.solution(10,2)\n",
    "\n",
    "        \n",
    "        \n",
    "    "
   ]
  },
  {
   "cell_type": "code",
   "execution_count": null,
   "metadata": {
    "collapsed": true
   },
   "outputs": [],
   "source": []
  },
  {
   "cell_type": "code",
   "execution_count": null,
   "metadata": {
    "collapsed": true
   },
   "outputs": [],
   "source": []
  },
  {
   "cell_type": "code",
   "execution_count": null,
   "metadata": {},
   "outputs": [],
   "source": []
  },
  {
   "cell_type": "code",
   "execution_count": null,
   "metadata": {},
   "outputs": [],
   "source": []
  },
  {
   "cell_type": "code",
   "execution_count": null,
   "metadata": {
    "collapsed": true
   },
   "outputs": [],
   "source": []
  }
 ],
 "metadata": {
  "kernelspec": {
   "display_name": "Python 3",
   "language": "python",
   "name": "python3"
  },
  "language_info": {
   "codemirror_mode": {
    "name": "ipython",
    "version": 3
   },
   "file_extension": ".py",
   "mimetype": "text/x-python",
   "name": "python",
   "nbconvert_exporter": "python",
   "pygments_lexer": "ipython3",
   "version": "3.6.3"
  }
 },
 "nbformat": 4,
 "nbformat_minor": 2
}
